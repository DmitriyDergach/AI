{
 "cells": [
  {
   "cell_type": "markdown",
   "metadata": {},
   "source": [
    "# Лабораторная работа №1 по курсу \"Машинное обучение\".\n",
    "## Первый датасет\n",
    "Студент группы М8О-307Б-17 Дергач Дмитрий Константинович"
   ]
  },
  {
   "cell_type": "markdown",
   "metadata": {},
   "source": [
    "## Постановка задачи:\n",
    "Необходимо сформировать два набора данных для приложений машинного обучения. Первый датасет должен представлять из себя табличный набор данных для задачи классификации. Второй датасет должен быть отличен от первого, и может представлять из себя набор изображений, корпус документов, другой табличный датасет или датасет из соревнования Kaggle, предназначенный для решения интересующей вас задачи машинного обучения. Необходимо провести анализ обоих\n",
    "наборов данных, поставить решаемую вами задачу, определить признаки необходимые для решения задачи, в случае необходимости заняться генерацией новых признаков, устранением проблем в данных, визуализировать распределение и зависимость целевого признака от выбранных признаков. В отчете описать все проблемы, с которыми вы столкнулись и выбранные подходы к их решению."
   ]
  },
  {
   "cell_type": "markdown",
   "metadata": {},
   "source": [
    "## Первый датасет:\n",
    "Первый датасет представляет собой статистику и проведенных и будующих (ячейки пустые, но они есть) Олимпийских игр. Хоть датасет не имеет множетсва зависимостей и большую пользу для анализа, однако в качетстве ознакомления его можно использовать. В данном датасете будет решаться проблема проишествий на Олимпийских играх, а именно какая их причина."
   ]
  },
  {
   "cell_type": "markdown",
   "metadata": {},
   "source": [
    "## Обращение к датасету"
   ]
  },
  {
   "cell_type": "code",
   "execution_count": 1,
   "metadata": {},
   "outputs": [],
   "source": [
    "import numpy as np\n",
    "import pandas as pd\n",
    "import matplotlib.pyplot as plt\n",
    "import os"
   ]
  },
  {
   "cell_type": "code",
   "execution_count": 3,
   "metadata": {},
   "outputs": [
    {
     "data": {
      "text/html": [
       "<div>\n",
       "<style scoped>\n",
       "    .dataframe tbody tr th:only-of-type {\n",
       "        vertical-align: middle;\n",
       "    }\n",
       "\n",
       "    .dataframe tbody tr th {\n",
       "        vertical-align: top;\n",
       "    }\n",
       "\n",
       "    .dataframe thead th {\n",
       "        text-align: right;\n",
       "    }\n",
       "</style>\n",
       "<table border=\"1\" class=\"dataframe\">\n",
       "  <thead>\n",
       "    <tr style=\"text-align: right;\">\n",
       "      <th></th>\n",
       "      <th>Type</th>\n",
       "      <th>GamesUrl</th>\n",
       "      <th>Disciplines</th>\n",
       "      <th>DisciplinesList</th>\n",
       "      <th>Country</th>\n",
       "      <th>Date</th>\n",
       "      <th>Athletes</th>\n",
       "      <th>Countries</th>\n",
       "      <th>Events</th>\n",
       "      <th>City</th>\n",
       "      <th>Year</th>\n",
       "    </tr>\n",
       "  </thead>\n",
       "  <tbody>\n",
       "    <tr>\n",
       "      <th>0</th>\n",
       "      <td>summergames</td>\n",
       "      <td>https://www.olympic.org/athens-1896</td>\n",
       "      <td>10</td>\n",
       "      <td>['Athletics', 'Cycling Road', 'Cycling Track',...</td>\n",
       "      <td>Greece</td>\n",
       "      <td>06 Apr - 15 Apr</td>\n",
       "      <td>241.0</td>\n",
       "      <td>14.0</td>\n",
       "      <td>43.0</td>\n",
       "      <td>Athens</td>\n",
       "      <td>1896</td>\n",
       "    </tr>\n",
       "    <tr>\n",
       "      <th>1</th>\n",
       "      <td>summergames</td>\n",
       "      <td>https://www.olympic.org/paris-1900</td>\n",
       "      <td>20</td>\n",
       "      <td>['Archery', 'Athletics', 'Basque Pelota', 'Cri...</td>\n",
       "      <td>France</td>\n",
       "      <td>14 May - 28 Oct</td>\n",
       "      <td>997.0</td>\n",
       "      <td>24.0</td>\n",
       "      <td>95.0</td>\n",
       "      <td>Paris</td>\n",
       "      <td>1900</td>\n",
       "    </tr>\n",
       "    <tr>\n",
       "      <th>2</th>\n",
       "      <td>summergames</td>\n",
       "      <td>https://www.olympic.org/st-louis-1904</td>\n",
       "      <td>19</td>\n",
       "      <td>['Archery', 'Athletics', 'Basketball', 'Boxing...</td>\n",
       "      <td>United States of America</td>\n",
       "      <td>01 Jul - 23 Nov</td>\n",
       "      <td>651.0</td>\n",
       "      <td>12.0</td>\n",
       "      <td>95.0</td>\n",
       "      <td>St Louis</td>\n",
       "      <td>1904</td>\n",
       "    </tr>\n",
       "    <tr>\n",
       "      <th>3</th>\n",
       "      <td>summergames</td>\n",
       "      <td>https://www.olympic.org/london-1908</td>\n",
       "      <td>25</td>\n",
       "      <td>['Archery', 'Athletics', 'Boxing', 'Cycling Tr...</td>\n",
       "      <td>Great Britain</td>\n",
       "      <td>27 Apr - 31 Oct</td>\n",
       "      <td>2008.0</td>\n",
       "      <td>22.0</td>\n",
       "      <td>110.0</td>\n",
       "      <td>London</td>\n",
       "      <td>1908</td>\n",
       "    </tr>\n",
       "    <tr>\n",
       "      <th>4</th>\n",
       "      <td>summergames</td>\n",
       "      <td>https://www.olympic.org/stockholm-1912</td>\n",
       "      <td>18</td>\n",
       "      <td>['Athletics', 'Cycling Road', 'Diving', 'Eques...</td>\n",
       "      <td>Sweden</td>\n",
       "      <td>05 May - 27 Jul</td>\n",
       "      <td>2407.0</td>\n",
       "      <td>28.0</td>\n",
       "      <td>102.0</td>\n",
       "      <td>Stockholm</td>\n",
       "      <td>1912</td>\n",
       "    </tr>\n",
       "    <tr>\n",
       "      <th>...</th>\n",
       "      <td>...</td>\n",
       "      <td>...</td>\n",
       "      <td>...</td>\n",
       "      <td>...</td>\n",
       "      <td>...</td>\n",
       "      <td>...</td>\n",
       "      <td>...</td>\n",
       "      <td>...</td>\n",
       "      <td>...</td>\n",
       "      <td>...</td>\n",
       "      <td>...</td>\n",
       "    </tr>\n",
       "    <tr>\n",
       "      <th>58</th>\n",
       "      <td>wintergames</td>\n",
       "      <td>https://www.olympic.org/beijing-2022</td>\n",
       "      <td>0</td>\n",
       "      <td>[]</td>\n",
       "      <td>People's Republic of China</td>\n",
       "      <td>04 Feb - 20 Feb</td>\n",
       "      <td>NaN</td>\n",
       "      <td>NaN</td>\n",
       "      <td>NaN</td>\n",
       "      <td>Beijing</td>\n",
       "      <td>2022</td>\n",
       "    </tr>\n",
       "    <tr>\n",
       "      <th>59</th>\n",
       "      <td>youthgames</td>\n",
       "      <td>https://www.olympic.org/dakar-2022</td>\n",
       "      <td>0</td>\n",
       "      <td>[]</td>\n",
       "      <td>Senegal</td>\n",
       "      <td>22 Oct - 09 Nov</td>\n",
       "      <td>NaN</td>\n",
       "      <td>NaN</td>\n",
       "      <td>NaN</td>\n",
       "      <td>Dakar</td>\n",
       "      <td>2022</td>\n",
       "    </tr>\n",
       "    <tr>\n",
       "      <th>60</th>\n",
       "      <td>summergames</td>\n",
       "      <td>https://www.olympic.org/paris-2024</td>\n",
       "      <td>0</td>\n",
       "      <td>[]</td>\n",
       "      <td>France</td>\n",
       "      <td>26 Jul - 11 Aug</td>\n",
       "      <td>NaN</td>\n",
       "      <td>NaN</td>\n",
       "      <td>NaN</td>\n",
       "      <td>Paris</td>\n",
       "      <td>2024</td>\n",
       "    </tr>\n",
       "    <tr>\n",
       "      <th>61</th>\n",
       "      <td>wintergames</td>\n",
       "      <td>https://www.olympic.org/milano-cortina-2026</td>\n",
       "      <td>0</td>\n",
       "      <td>[]</td>\n",
       "      <td>Italy</td>\n",
       "      <td>NaN</td>\n",
       "      <td>NaN</td>\n",
       "      <td>NaN</td>\n",
       "      <td>NaN</td>\n",
       "      <td>Milano Cortina</td>\n",
       "      <td>2026</td>\n",
       "    </tr>\n",
       "    <tr>\n",
       "      <th>62</th>\n",
       "      <td>summergames</td>\n",
       "      <td>https://www.olympic.org/la-2028</td>\n",
       "      <td>0</td>\n",
       "      <td>[]</td>\n",
       "      <td>United States of America</td>\n",
       "      <td>NaN</td>\n",
       "      <td>NaN</td>\n",
       "      <td>NaN</td>\n",
       "      <td>NaN</td>\n",
       "      <td>LA</td>\n",
       "      <td>2028</td>\n",
       "    </tr>\n",
       "  </tbody>\n",
       "</table>\n",
       "<p>63 rows × 11 columns</p>\n",
       "</div>"
      ],
      "text/plain": [
       "           Type                                     GamesUrl  Disciplines  \\\n",
       "0   summergames          https://www.olympic.org/athens-1896           10   \n",
       "1   summergames           https://www.olympic.org/paris-1900           20   \n",
       "2   summergames        https://www.olympic.org/st-louis-1904           19   \n",
       "3   summergames          https://www.olympic.org/london-1908           25   \n",
       "4   summergames       https://www.olympic.org/stockholm-1912           18   \n",
       "..          ...                                          ...          ...   \n",
       "58  wintergames         https://www.olympic.org/beijing-2022            0   \n",
       "59   youthgames           https://www.olympic.org/dakar-2022            0   \n",
       "60  summergames           https://www.olympic.org/paris-2024            0   \n",
       "61  wintergames  https://www.olympic.org/milano-cortina-2026            0   \n",
       "62  summergames              https://www.olympic.org/la-2028            0   \n",
       "\n",
       "                                      DisciplinesList  \\\n",
       "0   ['Athletics', 'Cycling Road', 'Cycling Track',...   \n",
       "1   ['Archery', 'Athletics', 'Basque Pelota', 'Cri...   \n",
       "2   ['Archery', 'Athletics', 'Basketball', 'Boxing...   \n",
       "3   ['Archery', 'Athletics', 'Boxing', 'Cycling Tr...   \n",
       "4   ['Athletics', 'Cycling Road', 'Diving', 'Eques...   \n",
       "..                                                ...   \n",
       "58                                                 []   \n",
       "59                                                 []   \n",
       "60                                                 []   \n",
       "61                                                 []   \n",
       "62                                                 []   \n",
       "\n",
       "                       Country             Date  Athletes  Countries  Events  \\\n",
       "0                       Greece  06 Apr - 15 Apr     241.0       14.0    43.0   \n",
       "1                       France  14 May - 28 Oct     997.0       24.0    95.0   \n",
       "2     United States of America  01 Jul - 23 Nov     651.0       12.0    95.0   \n",
       "3                Great Britain  27 Apr - 31 Oct    2008.0       22.0   110.0   \n",
       "4                       Sweden  05 May - 27 Jul    2407.0       28.0   102.0   \n",
       "..                         ...              ...       ...        ...     ...   \n",
       "58  People's Republic of China  04 Feb - 20 Feb       NaN        NaN     NaN   \n",
       "59                     Senegal  22 Oct - 09 Nov       NaN        NaN     NaN   \n",
       "60                      France  26 Jul - 11 Aug       NaN        NaN     NaN   \n",
       "61                       Italy              NaN       NaN        NaN     NaN   \n",
       "62    United States of America              NaN       NaN        NaN     NaN   \n",
       "\n",
       "               City  Year  \n",
       "0           Athens   1896  \n",
       "1            Paris   1900  \n",
       "2         St Louis   1904  \n",
       "3           London   1908  \n",
       "4        Stockholm   1912  \n",
       "..              ...   ...  \n",
       "58         Beijing   2022  \n",
       "59           Dakar   2022  \n",
       "60           Paris   2024  \n",
       "61  Milano Cortina   2026  \n",
       "62              LA   2028  \n",
       "\n",
       "[63 rows x 11 columns]"
      ]
     },
     "execution_count": 3,
     "metadata": {},
     "output_type": "execute_result"
    }
   ],
   "source": [
    "olympic = pd.read_csv('/Users/dmitry/MAI/3_year/AI/AI_Lab_1/Olympic_games/olympic_hosts.csv')\n",
    "olympic.head(63)"
   ]
  },
  {
   "cell_type": "markdown",
   "metadata": {},
   "source": [
    "## Удаление пустых полей\n",
    "Так как в датасете присутствуют пустые поля, то мы их просто удалим и обновим наш датасет."
   ]
  },
  {
   "cell_type": "code",
   "execution_count": 22,
   "metadata": {},
   "outputs": [
    {
     "name": "stdout",
     "output_type": "stream",
     "text": [
      "Total shape (63, 11)\n",
      "All columns: Type, GamesUrl, Disciplines, DisciplinesList, Country, Date, Athletes, Countries, Events, City, Year\n"
     ]
    }
   ],
   "source": [
    "print(f'Total shape {olympic.shape}')\n",
    "print(f'All columns: {\", \".join(olympic.columns.values)}')"
   ]
  },
  {
   "cell_type": "code",
   "execution_count": 23,
   "metadata": {},
   "outputs": [
    {
     "name": "stdout",
     "output_type": "stream",
     "text": [
      "Total shape (57, 11)\n",
      "All columns: Type, GamesUrl, Disciplines, DisciplinesList, Country, Date, Athletes, Countries, Events, City, Year\n"
     ]
    }
   ],
   "source": [
    "olympic = olympic.dropna()\n",
    "print(f'Total shape {olympic.shape}')\n",
    "print(f'All columns: {\", \".join(olympic.columns.values)}')"
   ]
  },
  {
   "cell_type": "markdown",
   "metadata": {},
   "source": [
    "## Предварительный анализ данных\n",
    "Произведем статистический анализ данных, а именно: для каждого столбца опишем его свойства (если это возможно). Для будущего анализа нам пригодятся только численные значения, поэтому значения object мы просто игнорируем."
   ]
  },
  {
   "cell_type": "code",
   "execution_count": 24,
   "metadata": {},
   "outputs": [
    {
     "data": {
      "text/html": [
       "<div>\n",
       "<style scoped>\n",
       "    .dataframe tbody tr th:only-of-type {\n",
       "        vertical-align: middle;\n",
       "    }\n",
       "\n",
       "    .dataframe tbody tr th {\n",
       "        vertical-align: top;\n",
       "    }\n",
       "\n",
       "    .dataframe thead th {\n",
       "        text-align: right;\n",
       "    }\n",
       "</style>\n",
       "<table border=\"1\" class=\"dataframe\">\n",
       "  <thead>\n",
       "    <tr style=\"text-align: right;\">\n",
       "      <th></th>\n",
       "      <th>Type</th>\n",
       "      <th>GamesUrl</th>\n",
       "      <th>Disciplines</th>\n",
       "      <th>DisciplinesList</th>\n",
       "      <th>Country</th>\n",
       "      <th>Date</th>\n",
       "      <th>Athletes</th>\n",
       "      <th>Countries</th>\n",
       "      <th>Events</th>\n",
       "      <th>City</th>\n",
       "      <th>Year</th>\n",
       "    </tr>\n",
       "  </thead>\n",
       "  <tbody>\n",
       "    <tr>\n",
       "      <th>count</th>\n",
       "      <td>57</td>\n",
       "      <td>57</td>\n",
       "      <td>57.000000</td>\n",
       "      <td>57</td>\n",
       "      <td>57</td>\n",
       "      <td>57</td>\n",
       "      <td>57.000000</td>\n",
       "      <td>57.000000</td>\n",
       "      <td>57.000000</td>\n",
       "      <td>57</td>\n",
       "      <td>57.000000</td>\n",
       "    </tr>\n",
       "    <tr>\n",
       "      <th>unique</th>\n",
       "      <td>3</td>\n",
       "      <td>57</td>\n",
       "      <td>NaN</td>\n",
       "      <td>36</td>\n",
       "      <td>27</td>\n",
       "      <td>55</td>\n",
       "      <td>NaN</td>\n",
       "      <td>NaN</td>\n",
       "      <td>NaN</td>\n",
       "      <td>47</td>\n",
       "      <td>NaN</td>\n",
       "    </tr>\n",
       "    <tr>\n",
       "      <th>top</th>\n",
       "      <td>summergames</td>\n",
       "      <td>https://www.olympic.org/sarajevo-1984</td>\n",
       "      <td>NaN</td>\n",
       "      <td>['Alpine Skiing', 'Biathlon', 'Bobsleigh', 'Cr...</td>\n",
       "      <td>United States of America</td>\n",
       "      <td>04 Feb - 15 Feb</td>\n",
       "      <td>NaN</td>\n",
       "      <td>NaN</td>\n",
       "      <td>NaN</td>\n",
       "      <td>London</td>\n",
       "      <td>NaN</td>\n",
       "    </tr>\n",
       "    <tr>\n",
       "      <th>freq</th>\n",
       "      <td>28</td>\n",
       "      <td>1</td>\n",
       "      <td>NaN</td>\n",
       "      <td>7</td>\n",
       "      <td>8</td>\n",
       "      <td>2</td>\n",
       "      <td>NaN</td>\n",
       "      <td>NaN</td>\n",
       "      <td>NaN</td>\n",
       "      <td>3</td>\n",
       "      <td>NaN</td>\n",
       "    </tr>\n",
       "    <tr>\n",
       "      <th>mean</th>\n",
       "      <td>NaN</td>\n",
       "      <td>NaN</td>\n",
       "      <td>17.666667</td>\n",
       "      <td>NaN</td>\n",
       "      <td>NaN</td>\n",
       "      <td>NaN</td>\n",
       "      <td>3550.368421</td>\n",
       "      <td>82.701754</td>\n",
       "      <td>123.263158</td>\n",
       "      <td>NaN</td>\n",
       "      <td>1970.666667</td>\n",
       "    </tr>\n",
       "    <tr>\n",
       "      <th>std</th>\n",
       "      <td>NaN</td>\n",
       "      <td>NaN</td>\n",
       "      <td>11.369341</td>\n",
       "      <td>NaN</td>\n",
       "      <td>NaN</td>\n",
       "      <td>NaN</td>\n",
       "      <td>3238.871820</td>\n",
       "      <td>62.465981</td>\n",
       "      <td>89.457996</td>\n",
       "      <td>NaN</td>\n",
       "      <td>35.793721</td>\n",
       "    </tr>\n",
       "    <tr>\n",
       "      <th>min</th>\n",
       "      <td>NaN</td>\n",
       "      <td>NaN</td>\n",
       "      <td>0.000000</td>\n",
       "      <td>NaN</td>\n",
       "      <td>NaN</td>\n",
       "      <td>NaN</td>\n",
       "      <td>241.000000</td>\n",
       "      <td>12.000000</td>\n",
       "      <td>14.000000</td>\n",
       "      <td>NaN</td>\n",
       "      <td>1896.000000</td>\n",
       "    </tr>\n",
       "    <tr>\n",
       "      <th>25%</th>\n",
       "      <td>NaN</td>\n",
       "      <td>NaN</td>\n",
       "      <td>10.000000</td>\n",
       "      <td>NaN</td>\n",
       "      <td>NaN</td>\n",
       "      <td>NaN</td>\n",
       "      <td>1072.000000</td>\n",
       "      <td>35.000000</td>\n",
       "      <td>43.000000</td>\n",
       "      <td>NaN</td>\n",
       "      <td>1948.000000</td>\n",
       "    </tr>\n",
       "    <tr>\n",
       "      <th>50%</th>\n",
       "      <td>NaN</td>\n",
       "      <td>NaN</td>\n",
       "      <td>15.000000</td>\n",
       "      <td>NaN</td>\n",
       "      <td>NaN</td>\n",
       "      <td>NaN</td>\n",
       "      <td>2508.000000</td>\n",
       "      <td>69.000000</td>\n",
       "      <td>102.000000</td>\n",
       "      <td>NaN</td>\n",
       "      <td>1976.000000</td>\n",
       "    </tr>\n",
       "    <tr>\n",
       "      <th>75%</th>\n",
       "      <td>NaN</td>\n",
       "      <td>NaN</td>\n",
       "      <td>25.000000</td>\n",
       "      <td>NaN</td>\n",
       "      <td>NaN</td>\n",
       "      <td>NaN</td>\n",
       "      <td>5151.000000</td>\n",
       "      <td>93.000000</td>\n",
       "      <td>195.000000</td>\n",
       "      <td>NaN</td>\n",
       "      <td>2002.000000</td>\n",
       "    </tr>\n",
       "    <tr>\n",
       "      <th>max</th>\n",
       "      <td>NaN</td>\n",
       "      <td>NaN</td>\n",
       "      <td>41.000000</td>\n",
       "      <td>NaN</td>\n",
       "      <td>NaN</td>\n",
       "      <td>NaN</td>\n",
       "      <td>11238.000000</td>\n",
       "      <td>207.000000</td>\n",
       "      <td>306.000000</td>\n",
       "      <td>NaN</td>\n",
       "      <td>2020.000000</td>\n",
       "    </tr>\n",
       "  </tbody>\n",
       "</table>\n",
       "</div>"
      ],
      "text/plain": [
       "               Type                               GamesUrl  Disciplines  \\\n",
       "count            57                                     57    57.000000   \n",
       "unique            3                                     57          NaN   \n",
       "top     summergames  https://www.olympic.org/sarajevo-1984          NaN   \n",
       "freq             28                                      1          NaN   \n",
       "mean            NaN                                    NaN    17.666667   \n",
       "std             NaN                                    NaN    11.369341   \n",
       "min             NaN                                    NaN     0.000000   \n",
       "25%             NaN                                    NaN    10.000000   \n",
       "50%             NaN                                    NaN    15.000000   \n",
       "75%             NaN                                    NaN    25.000000   \n",
       "max             NaN                                    NaN    41.000000   \n",
       "\n",
       "                                          DisciplinesList  \\\n",
       "count                                                  57   \n",
       "unique                                                 36   \n",
       "top     ['Alpine Skiing', 'Biathlon', 'Bobsleigh', 'Cr...   \n",
       "freq                                                    7   \n",
       "mean                                                  NaN   \n",
       "std                                                   NaN   \n",
       "min                                                   NaN   \n",
       "25%                                                   NaN   \n",
       "50%                                                   NaN   \n",
       "75%                                                   NaN   \n",
       "max                                                   NaN   \n",
       "\n",
       "                         Country             Date      Athletes   Countries  \\\n",
       "count                         57               57     57.000000   57.000000   \n",
       "unique                        27               55           NaN         NaN   \n",
       "top     United States of America  04 Feb - 15 Feb           NaN         NaN   \n",
       "freq                           8                2           NaN         NaN   \n",
       "mean                         NaN              NaN   3550.368421   82.701754   \n",
       "std                          NaN              NaN   3238.871820   62.465981   \n",
       "min                          NaN              NaN    241.000000   12.000000   \n",
       "25%                          NaN              NaN   1072.000000   35.000000   \n",
       "50%                          NaN              NaN   2508.000000   69.000000   \n",
       "75%                          NaN              NaN   5151.000000   93.000000   \n",
       "max                          NaN              NaN  11238.000000  207.000000   \n",
       "\n",
       "            Events     City         Year  \n",
       "count    57.000000       57    57.000000  \n",
       "unique         NaN       47          NaN  \n",
       "top            NaN  London           NaN  \n",
       "freq           NaN        3          NaN  \n",
       "mean    123.263158      NaN  1970.666667  \n",
       "std      89.457996      NaN    35.793721  \n",
       "min      14.000000      NaN  1896.000000  \n",
       "25%      43.000000      NaN  1948.000000  \n",
       "50%     102.000000      NaN  1976.000000  \n",
       "75%     195.000000      NaN  2002.000000  \n",
       "max     306.000000      NaN  2020.000000  "
      ]
     },
     "execution_count": 24,
     "metadata": {},
     "output_type": "execute_result"
    }
   ],
   "source": [
    "olympic.describe(include = \"all\")"
   ]
  },
  {
   "cell_type": "code",
   "execution_count": 25,
   "metadata": {},
   "outputs": [
    {
     "data": {
      "image/png": "[encoded data removed]",
      "text/plain": [
       "<Figure size 1440x1080 with 6 Axes>"
      ]
     },
     "metadata": {
      "needs_background": "light"
     },
     "output_type": "display_data"
    }
   ],
   "source": [
    "olympic.hist(bins = 50, figsize = (20, 15))\n",
    "plt.savefig('./olympic_hist.png')\n",
    "plt.show()"
   ]
  },
  {
   "cell_type": "code",
   "execution_count": 26,
   "metadata": {},
   "outputs": [
    {
     "name": "stdout",
     "output_type": "stream",
     "text": [
      "<class 'pandas.core.frame.DataFrame'>\n",
      "Int64Index: 57 entries, 0 to 57\n",
      "Data columns (total 11 columns):\n",
      " #   Column           Non-Null Count  Dtype  \n",
      "---  ------           --------------  -----  \n",
      " 0   Type             57 non-null     object \n",
      " 1   GamesUrl         57 non-null     object \n",
      " 2   Disciplines      57 non-null     int64  \n",
      " 3   DisciplinesList  57 non-null     object \n",
      " 4   Country          57 non-null     object \n",
      " 5   Date             57 non-null     object \n",
      " 6   Athletes         57 non-null     float64\n",
      " 7   Countries        57 non-null     float64\n",
      " 8   Events           57 non-null     float64\n",
      " 9   City             57 non-null     object \n",
      " 10  Year             57 non-null     int64  \n",
      "dtypes: float64(3), int64(2), object(6)\n",
      "memory usage: 5.3+ KB\n"
     ]
    }
   ],
   "source": [
    "olympic.info()"
   ]
  },
  {
   "cell_type": "markdown",
   "metadata": {},
   "source": [
    "## Визуализация и анализ данных\n",
    "Построим графики зависимостей основных численных значений: участники, дисциплины, страны,проишествия."
   ]
  },
  {
   "cell_type": "code",
   "execution_count": 50,
   "metadata": {},
   "outputs": [
    {
     "data": {
      "image/png": "[encoded data removed]",
      "text/plain": [
       "<Figure size 864x576 with 16 Axes>"
      ]
     },
     "metadata": {
      "needs_background": "light"
     },
     "output_type": "display_data"
    }
   ],
   "source": [
    "from pandas.plotting import scatter_matrix\n",
    "attributes = [\"Athletes\", \"Disciplines\", \"Events\", \"Countries\"] \n",
    "\n",
    "scatter_matrix(olympic[attributes], figsize=(12, 8))\n",
    "plt.suptitle(\"Year's factors\")\n",
    "plt.savefig('./Year factors.png')"
   ]
  },
  {
   "cell_type": "markdown",
   "metadata": {},
   "source": [
    "## Корреляция признаков"
   ]
  },
  {
   "cell_type": "code",
   "execution_count": 48,
   "metadata": {},
   "outputs": [
    {
     "data": {
      "text/plain": [
       "Events         1.000000\n",
       "Athletes       0.937922\n",
       "Countries      0.884962\n",
       "Disciplines    0.745816\n",
       "Year           0.389473\n",
       "Name: Events, dtype: float64"
      ]
     },
     "execution_count": 48,
     "metadata": {},
     "output_type": "execute_result"
    }
   ],
   "source": [
    "corr_matrix = olympic.corr()\n",
    "corr_matrix[\"Events\"].sort_values(ascending=False)"
   ]
  },
  {
   "cell_type": "code",
   "execution_count": 49,
   "metadata": {},
   "outputs": [
    {
     "data": {
      "text/plain": [
       "Athletes       1.000000\n",
       "Events         0.937922\n",
       "Countries      0.846559\n",
       "Disciplines    0.833875\n",
       "Year           0.422416\n",
       "Name: Athletes, dtype: float64"
      ]
     },
     "execution_count": 49,
     "metadata": {},
     "output_type": "execute_result"
    }
   ],
   "source": [
    "corr_matrix = olympic.corr()\n",
    "corr_matrix[\"Athletes\"].sort_values(ascending=False)"
   ]
  },
  {
   "cell_type": "code",
   "execution_count": 44,
   "metadata": {},
   "outputs": [
    {
     "data": {
      "text/plain": [
       "Year           1.000000\n",
       "Countries      0.690516\n",
       "Athletes       0.422416\n",
       "Events         0.389473\n",
       "Disciplines   -0.006992\n",
       "Name: Year, dtype: float64"
      ]
     },
     "execution_count": 44,
     "metadata": {},
     "output_type": "execute_result"
    }
   ],
   "source": [
    "corr_matrix = olympic.corr()\n",
    "corr_matrix[\"Year\"].sort_values(ascending=False)"
   ]
  },
  {
   "cell_type": "markdown",
   "metadata": {},
   "source": [
    "Как видно, что на фактов проишествия основное значения имели факторы количество участников и стран, что впринципе совпадает с действительность. Также можно проследить эту зависимость и в графиках"
   ]
  },
  {
   "cell_type": "markdown",
   "metadata": {},
   "source": [
    "## Вывод\n",
    "Таким образом, был проанализирован первый датасет. Хоть в нем и не получилось составить сложный анализ, однако этого было достаточно, чтобы ознакомиться с анализом данных."
   ]
  }
 ],
 "metadata": {
  "kernelspec": {
   "display_name": "Python 3",
   "language": "python",
   "name": "python3"
  },
  "language_info": {
   "codemirror_mode": {
    "name": "ipython",
    "version": 3
   },
   "file_extension": ".py",
   "mimetype": "text/x-python",
   "name": "python",
   "nbconvert_exporter": "python",
   "pygments_lexer": "ipython3",
   "version": "3.8.5"
  }
 },
 "nbformat": 4,
 "nbformat_minor": 4
}
